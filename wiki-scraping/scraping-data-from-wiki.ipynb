{
 "cells": [
  {
   "cell_type": "code",
   "execution_count": null,
   "id": "d4b30413-5ae2-4651-be2f-eeaa79bc974c",
   "metadata": {
    "tags": []
   },
   "outputs": [],
   "source": [
    "from bs4 import BeautifulSoup\n",
    "import requests"
   ]
  },
  {
   "cell_type": "code",
   "execution_count": null,
   "id": "759142fd-96af-4cca-a8e2-3fb9e72527cd",
   "metadata": {
    "tags": []
   },
   "outputs": [],
   "source": [
    "url = 'https://en.wikipedia.org/wiki/List_of_largest_companies_in_the_United_States_by_revenue'\n",
    "\n",
    "page = requests.get(url)\n",
    "\n",
    "soup = BeautifulSoup(page.text, 'html')"
   ]
  },
  {
   "cell_type": "code",
   "execution_count": null,
   "id": "27d67908-d8ed-4e36-af11-b6fe4be7724d",
   "metadata": {
    "tags": []
   },
   "outputs": [],
   "source": [
    "print(soup)"
   ]
  },
  {
   "cell_type": "code",
   "execution_count": null,
   "id": "cffb33dc-6cda-4e42-bdfc-759657eb29ba",
   "metadata": {
    "tags": []
   },
   "outputs": [],
   "source": [
    "soup.find_all('table')[1]"
   ]
  },
  {
   "cell_type": "code",
   "execution_count": null,
   "id": "4eeded71-8128-40e4-8383-8154f4912b91",
   "metadata": {
    "tags": []
   },
   "outputs": [],
   "source": [
    "soup.find('table', class_ = 'wikitable sortable')\n",
    "\n"
   ]
  },
  {
   "cell_type": "code",
   "execution_count": null,
   "id": "3b3abc27-dca7-4f4d-9449-d7bdf37fc1df",
   "metadata": {},
   "outputs": [],
   "source": [
    "table = soup.find_all('table')[1]"
   ]
  },
  {
   "cell_type": "code",
   "execution_count": null,
   "id": "92697bf5-f484-423a-952d-5f4a16043b87",
   "metadata": {
    "tags": []
   },
   "outputs": [],
   "source": [
    "print(table)\n",
    "\n",
    "soup.find_all('th')"
   ]
  },
  {
   "cell_type": "code",
   "execution_count": null,
   "id": "668e722a-a4e5-4ca5-95f3-03dff508faed",
   "metadata": {},
   "outputs": [],
   "source": [
    "world_titles = table.find_all('th')"
   ]
  },
  {
   "cell_type": "code",
   "execution_count": null,
   "id": "a2cb7ea1-a7c5-4a9b-8883-043550285a2c",
   "metadata": {},
   "outputs": [],
   "source": [
    "world_titles"
   ]
  },
  {
   "cell_type": "code",
   "execution_count": null,
   "id": "b129174f-f0da-4141-969d-c53ad0dd595d",
   "metadata": {},
   "outputs": [],
   "source": [
    "world_table_titles = [title.text.strip() for title in world_titles]\n",
    "\n",
    "print(world_table_titles)"
   ]
  },
  {
   "cell_type": "code",
   "execution_count": null,
   "id": "e708e86a-1b95-4015-9f61-07e0dadca9bc",
   "metadata": {},
   "outputs": [],
   "source": [
    "import pandas as pd"
   ]
  },
  {
   "cell_type": "code",
   "execution_count": null,
   "id": "94170dde-2abe-41f4-afdb-f18d7ba34a0f",
   "metadata": {},
   "outputs": [],
   "source": [
    "df = pd.DataFrame(columns = world_table_titles)\n",
    "\n",
    "df \n"
   ]
  },
  {
   "cell_type": "code",
   "execution_count": null,
   "id": "b266a9f1-bf21-4809-9a68-06c93a30a2da",
   "metadata": {},
   "outputs": [],
   "source": [
    "column_data = table.find_all('tr')"
   ]
  },
  {
   "cell_type": "code",
   "execution_count": null,
   "id": "dd41de4d-e22f-4a73-8a8b-cbee0a484155",
   "metadata": {},
   "outputs": [],
   "source": [
    "for row in column_data[1:]:\n",
    "    row_data = row.find_all('td')\n",
    "    individual_row_data = [data.text.strip() for data in row_data]\n",
    "    print(individual_row_data)\n",
    "    \n",
    "    length = len(df)\n",
    "    df.loc[length] = individual_row_data\n",
    "    \n"
   ]
  },
  {
   "cell_type": "code",
   "execution_count": null,
   "id": "502799f4-38b8-419d-bb22-31cff0dc79c9",
   "metadata": {
    "tags": []
   },
   "outputs": [],
   "source": [
    "df"
   ]
  },
  {
   "cell_type": "code",
   "execution_count": null,
   "id": "d908bb30-6dd6-499c-9a37-8504056c659e",
   "metadata": {},
   "outputs": [],
   "source": [
    "df.to_csv(r'/Users/as/Data_Analyst_Tut/Projects/Portfolio/wiki-scraping/USCompanies.csv', index = False)"
   ]
  },
  {
   "cell_type": "code",
   "execution_count": null,
   "id": "c30baa31-aded-4433-b88d-3cbe355ae743",
   "metadata": {},
   "outputs": [],
   "source": []
  },
  {
   "cell_type": "code",
   "execution_count": null,
   "id": "2abb8451-205a-4506-a632-e678ce94a6aa",
   "metadata": {},
   "outputs": [],
   "source": []
  },
  {
   "cell_type": "code",
   "execution_count": null,
   "id": "e0ee05d4-98ae-4dde-8560-7e5787812491",
   "metadata": {},
   "outputs": [],
   "source": []
  },
  {
   "cell_type": "code",
   "execution_count": null,
   "id": "3263aed8-45cb-479d-8130-8e4318e9fc1c",
   "metadata": {},
   "outputs": [],
   "source": []
  },
  {
   "cell_type": "code",
   "execution_count": null,
   "id": "bc6a131e-c216-4585-80b7-23f15e191154",
   "metadata": {},
   "outputs": [],
   "source": []
  }
 ],
 "metadata": {
  "kernelspec": {
   "display_name": "Python 3 (ipykernel)",
   "language": "python",
   "name": "python3"
  },
  "language_info": {
   "codemirror_mode": {
    "name": "ipython",
    "version": 3
   },
   "file_extension": ".py",
   "mimetype": "text/x-python",
   "name": "python",
   "nbconvert_exporter": "python",
   "pygments_lexer": "ipython3",
   "version": "3.11.4"
  }
 },
 "nbformat": 4,
 "nbformat_minor": 5
}
